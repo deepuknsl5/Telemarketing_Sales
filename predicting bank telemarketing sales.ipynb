{
 "cells": [
  {
   "cell_type": "code",
   "execution_count": 1,
   "id": "a05620f4",
   "metadata": {},
   "outputs": [
    {
     "name": "stderr",
     "output_type": "stream",
     "text": [
      "C:\\Users\\asus\\anaconda3\\Lib\\site-packages\\pandas\\core\\arrays\\masked.py:60: UserWarning: Pandas requires version '1.3.6' or newer of 'bottleneck' (version '1.3.5' currently installed).\n",
      "  from pandas.core import (\n"
     ]
    }
   ],
   "source": [
    "import pandas as pd\n",
    "import numpy as np\n",
    "import seaborn as sns\n",
    "import matplotlib.pyplot as plt"
   ]
  },
  {
   "cell_type": "code",
   "execution_count": 2,
   "id": "54ca60cd",
   "metadata": {},
   "outputs": [],
   "source": [
    "df= pd.read_csv('bank.csv',  delimiter=';')"
   ]
  },
  {
   "cell_type": "code",
   "execution_count": 3,
   "id": "63f7daf9",
   "metadata": {},
   "outputs": [
    {
     "data": {
      "text/html": [
       "<div>\n",
       "<style scoped>\n",
       "    .dataframe tbody tr th:only-of-type {\n",
       "        vertical-align: middle;\n",
       "    }\n",
       "\n",
       "    .dataframe tbody tr th {\n",
       "        vertical-align: top;\n",
       "    }\n",
       "\n",
       "    .dataframe thead th {\n",
       "        text-align: right;\n",
       "    }\n",
       "</style>\n",
       "<table border=\"1\" class=\"dataframe\">\n",
       "  <thead>\n",
       "    <tr style=\"text-align: right;\">\n",
       "      <th></th>\n",
       "      <th>age</th>\n",
       "      <th>job</th>\n",
       "      <th>marital</th>\n",
       "      <th>education</th>\n",
       "      <th>default</th>\n",
       "      <th>housing</th>\n",
       "      <th>loan</th>\n",
       "      <th>contact</th>\n",
       "      <th>month</th>\n",
       "      <th>day_of_week</th>\n",
       "      <th>...</th>\n",
       "      <th>campaign</th>\n",
       "      <th>pdays</th>\n",
       "      <th>previous</th>\n",
       "      <th>poutcome</th>\n",
       "      <th>emp.var.rate</th>\n",
       "      <th>cons.price.idx</th>\n",
       "      <th>cons.conf.idx</th>\n",
       "      <th>euribor3m</th>\n",
       "      <th>nr.employed</th>\n",
       "      <th>y</th>\n",
       "    </tr>\n",
       "  </thead>\n",
       "  <tbody>\n",
       "    <tr>\n",
       "      <th>0</th>\n",
       "      <td>56</td>\n",
       "      <td>housemaid</td>\n",
       "      <td>married</td>\n",
       "      <td>basic.4y</td>\n",
       "      <td>no</td>\n",
       "      <td>no</td>\n",
       "      <td>no</td>\n",
       "      <td>telephone</td>\n",
       "      <td>may</td>\n",
       "      <td>mon</td>\n",
       "      <td>...</td>\n",
       "      <td>1</td>\n",
       "      <td>999</td>\n",
       "      <td>0</td>\n",
       "      <td>nonexistent</td>\n",
       "      <td>1.1</td>\n",
       "      <td>93.994</td>\n",
       "      <td>-36.4</td>\n",
       "      <td>4.857</td>\n",
       "      <td>5191.0</td>\n",
       "      <td>no</td>\n",
       "    </tr>\n",
       "    <tr>\n",
       "      <th>1</th>\n",
       "      <td>57</td>\n",
       "      <td>services</td>\n",
       "      <td>married</td>\n",
       "      <td>high.school</td>\n",
       "      <td>unknown</td>\n",
       "      <td>no</td>\n",
       "      <td>no</td>\n",
       "      <td>telephone</td>\n",
       "      <td>may</td>\n",
       "      <td>mon</td>\n",
       "      <td>...</td>\n",
       "      <td>1</td>\n",
       "      <td>999</td>\n",
       "      <td>0</td>\n",
       "      <td>nonexistent</td>\n",
       "      <td>1.1</td>\n",
       "      <td>93.994</td>\n",
       "      <td>-36.4</td>\n",
       "      <td>4.857</td>\n",
       "      <td>5191.0</td>\n",
       "      <td>no</td>\n",
       "    </tr>\n",
       "    <tr>\n",
       "      <th>2</th>\n",
       "      <td>37</td>\n",
       "      <td>services</td>\n",
       "      <td>married</td>\n",
       "      <td>high.school</td>\n",
       "      <td>no</td>\n",
       "      <td>yes</td>\n",
       "      <td>no</td>\n",
       "      <td>telephone</td>\n",
       "      <td>may</td>\n",
       "      <td>mon</td>\n",
       "      <td>...</td>\n",
       "      <td>1</td>\n",
       "      <td>999</td>\n",
       "      <td>0</td>\n",
       "      <td>nonexistent</td>\n",
       "      <td>1.1</td>\n",
       "      <td>93.994</td>\n",
       "      <td>-36.4</td>\n",
       "      <td>4.857</td>\n",
       "      <td>5191.0</td>\n",
       "      <td>no</td>\n",
       "    </tr>\n",
       "    <tr>\n",
       "      <th>3</th>\n",
       "      <td>40</td>\n",
       "      <td>admin.</td>\n",
       "      <td>married</td>\n",
       "      <td>basic.6y</td>\n",
       "      <td>no</td>\n",
       "      <td>no</td>\n",
       "      <td>no</td>\n",
       "      <td>telephone</td>\n",
       "      <td>may</td>\n",
       "      <td>mon</td>\n",
       "      <td>...</td>\n",
       "      <td>1</td>\n",
       "      <td>999</td>\n",
       "      <td>0</td>\n",
       "      <td>nonexistent</td>\n",
       "      <td>1.1</td>\n",
       "      <td>93.994</td>\n",
       "      <td>-36.4</td>\n",
       "      <td>4.857</td>\n",
       "      <td>5191.0</td>\n",
       "      <td>no</td>\n",
       "    </tr>\n",
       "    <tr>\n",
       "      <th>4</th>\n",
       "      <td>56</td>\n",
       "      <td>services</td>\n",
       "      <td>married</td>\n",
       "      <td>high.school</td>\n",
       "      <td>no</td>\n",
       "      <td>no</td>\n",
       "      <td>yes</td>\n",
       "      <td>telephone</td>\n",
       "      <td>may</td>\n",
       "      <td>mon</td>\n",
       "      <td>...</td>\n",
       "      <td>1</td>\n",
       "      <td>999</td>\n",
       "      <td>0</td>\n",
       "      <td>nonexistent</td>\n",
       "      <td>1.1</td>\n",
       "      <td>93.994</td>\n",
       "      <td>-36.4</td>\n",
       "      <td>4.857</td>\n",
       "      <td>5191.0</td>\n",
       "      <td>no</td>\n",
       "    </tr>\n",
       "  </tbody>\n",
       "</table>\n",
       "<p>5 rows × 21 columns</p>\n",
       "</div>"
      ],
      "text/plain": [
       "   age        job  marital    education  default housing loan    contact  \\\n",
       "0   56  housemaid  married     basic.4y       no      no   no  telephone   \n",
       "1   57   services  married  high.school  unknown      no   no  telephone   \n",
       "2   37   services  married  high.school       no     yes   no  telephone   \n",
       "3   40     admin.  married     basic.6y       no      no   no  telephone   \n",
       "4   56   services  married  high.school       no      no  yes  telephone   \n",
       "\n",
       "  month day_of_week  ...  campaign  pdays  previous     poutcome emp.var.rate  \\\n",
       "0   may         mon  ...         1    999         0  nonexistent          1.1   \n",
       "1   may         mon  ...         1    999         0  nonexistent          1.1   \n",
       "2   may         mon  ...         1    999         0  nonexistent          1.1   \n",
       "3   may         mon  ...         1    999         0  nonexistent          1.1   \n",
       "4   may         mon  ...         1    999         0  nonexistent          1.1   \n",
       "\n",
       "   cons.price.idx  cons.conf.idx  euribor3m  nr.employed   y  \n",
       "0          93.994          -36.4      4.857       5191.0  no  \n",
       "1          93.994          -36.4      4.857       5191.0  no  \n",
       "2          93.994          -36.4      4.857       5191.0  no  \n",
       "3          93.994          -36.4      4.857       5191.0  no  \n",
       "4          93.994          -36.4      4.857       5191.0  no  \n",
       "\n",
       "[5 rows x 21 columns]"
      ]
     },
     "execution_count": 3,
     "metadata": {},
     "output_type": "execute_result"
    }
   ],
   "source": [
    "df.head()"
   ]
  },
  {
   "cell_type": "code",
   "execution_count": 4,
   "id": "bcfbf647",
   "metadata": {},
   "outputs": [
    {
     "data": {
      "text/plain": [
       "(41188, 21)"
      ]
     },
     "execution_count": 4,
     "metadata": {},
     "output_type": "execute_result"
    }
   ],
   "source": [
    "df.shape"
   ]
  },
  {
   "cell_type": "code",
   "execution_count": 6,
   "id": "cdb7e1e3",
   "metadata": {},
   "outputs": [
    {
     "data": {
      "text/plain": [
       "duration\n",
       "90      170\n",
       "85      170\n",
       "136     168\n",
       "73      167\n",
       "124     164\n",
       "       ... \n",
       "1569      1\n",
       "1053      1\n",
       "1263      1\n",
       "1169      1\n",
       "1868      1\n",
       "Name: count, Length: 1544, dtype: int64"
      ]
     },
     "execution_count": 6,
     "metadata": {},
     "output_type": "execute_result"
    }
   ],
   "source": [
    "df.duration.value_counts()"
   ]
  },
  {
   "cell_type": "code",
   "execution_count": 7,
   "id": "f8809b20",
   "metadata": {},
   "outputs": [
    {
     "name": "stdout",
     "output_type": "stream",
     "text": [
      "<class 'pandas.core.frame.DataFrame'>\n",
      "RangeIndex: 41188 entries, 0 to 41187\n",
      "Data columns (total 21 columns):\n",
      " #   Column          Non-Null Count  Dtype  \n",
      "---  ------          --------------  -----  \n",
      " 0   age             41188 non-null  int64  \n",
      " 1   job             41188 non-null  object \n",
      " 2   marital         41188 non-null  object \n",
      " 3   education       41188 non-null  object \n",
      " 4   default         41188 non-null  object \n",
      " 5   housing         41188 non-null  object \n",
      " 6   loan            41188 non-null  object \n",
      " 7   contact         41188 non-null  object \n",
      " 8   month           41188 non-null  object \n",
      " 9   day_of_week     41188 non-null  object \n",
      " 10  duration        41188 non-null  int64  \n",
      " 11  campaign        41188 non-null  int64  \n",
      " 12  pdays           41188 non-null  int64  \n",
      " 13  previous        41188 non-null  int64  \n",
      " 14  poutcome        41188 non-null  object \n",
      " 15  emp.var.rate    41188 non-null  float64\n",
      " 16  cons.price.idx  41188 non-null  float64\n",
      " 17  cons.conf.idx   41188 non-null  float64\n",
      " 18  euribor3m       41188 non-null  float64\n",
      " 19  nr.employed     41188 non-null  float64\n",
      " 20  y               41188 non-null  object \n",
      "dtypes: float64(5), int64(5), object(11)\n",
      "memory usage: 6.6+ MB\n"
     ]
    }
   ],
   "source": [
    "df.info()"
   ]
  },
  {
   "cell_type": "code",
   "execution_count": 8,
   "id": "68850634",
   "metadata": {
    "scrolled": false
   },
   "outputs": [
    {
     "data": {
      "text/plain": [
       "age                 78\n",
       "job                 12\n",
       "marital              4\n",
       "education            8\n",
       "default              3\n",
       "housing              3\n",
       "loan                 3\n",
       "contact              2\n",
       "month               10\n",
       "day_of_week          5\n",
       "duration          1544\n",
       "campaign            42\n",
       "pdays               27\n",
       "previous             8\n",
       "poutcome             3\n",
       "emp.var.rate        10\n",
       "cons.price.idx      26\n",
       "cons.conf.idx       26\n",
       "euribor3m          316\n",
       "nr.employed         11\n",
       "y                    2\n",
       "dtype: int64"
      ]
     },
     "execution_count": 8,
     "metadata": {},
     "output_type": "execute_result"
    }
   ],
   "source": [
    "df.nunique()"
   ]
  },
  {
   "cell_type": "markdown",
   "id": "9384e3a0",
   "metadata": {},
   "source": [
    "## Data Cleaning"
   ]
  },
  {
   "cell_type": "code",
   "execution_count": 9,
   "id": "551f7783",
   "metadata": {},
   "outputs": [
    {
     "data": {
      "text/plain": [
       "Index(['age', 'job', 'marital', 'education', 'default', 'housing', 'loan',\n",
       "       'contact_type', 'contact_month', 'contact_weekday', 'contact_duration',\n",
       "       'contact_count', 'days_since_prev', 'prev_contact_count',\n",
       "       'prev_outcome', 'emp_var_rate', 'cons_price_idx', 'cons_conf_idx',\n",
       "       'euribor_3m', 'n_employed', 'invested'],\n",
       "      dtype='object')"
      ]
     },
     "execution_count": 9,
     "metadata": {},
     "output_type": "execute_result"
    }
   ],
   "source": [
    "# Rename the feature name\n",
    "\n",
    "df.columns = df.columns.str.replace(\".\", \"_\", regex = False)\n",
    "\n",
    "# Map old names to new names\n",
    "rename = {\n",
    "    'y':'invested',\n",
    "    'poutcome':'prev_outcome',\n",
    "    'pdays':'days_since_prev',\n",
    "    'previous':'prev_contact_count',\n",
    "    'campaign':'contact_count',\n",
    "    'month':'contact_month',\n",
    "    'day_of_week':'contact_weekday',\n",
    "    'duration':'contact_duration',\n",
    "    'contact':'contact_type',\n",
    "    'nr_employed':'n_employed',\n",
    "    'euribor3m':'euribor_3m'\n",
    "}\n",
    "\n",
    "df.rename(columns=rename, inplace=True)\n",
    "\n",
    "df.columns"
   ]
  },
  {
   "cell_type": "markdown",
   "id": "6fb015f7",
   "metadata": {},
   "source": [
    "### Feature Explanations\n",
    "\n",
    "1. 'age' - years\n",
    "2. 'job' - type of job\n",
    "3. 'marital' - marital status\n",
    "4. 'education' - level of education\n",
    "5. 'default' - has defaulted on credit\n",
    "6. 'housing' - has housing loan\n",
    "7. 'loan' - has personal loan\n",
    "\n",
    "8. 'contact_type' - call type of last contact (cellular or landline)\n",
    "9. 'contact_month' - month of last contact\n",
    "10. 'contact_weekday' - weekday of last contact\n",
    "11. 'contact_duration' - duration of last contact in seconds\n",
    "12. 'contact_count' - total number of contacts during this campaign\n",
    "13. 'invested' - invested in a term deposit (target variable)\n",
    "\n",
    "14. 'days_since_prev' - number of days since last contacted during previous campaign\n",
    "15. 'prev_contact_count' - total number of contacts before this campaign\n",
    "16. 'prev_outcome' - sales result of previous campaign\n",
    "\n",
    "17. 'emp_var_rate' - employment variation rate (quarterly indicator)\n",
    "18. 'cons_price_idx' - consumer price index (monthly indicator)\n",
    "19. 'cons_conf_idx' - consumer confidence index (monthly indicator)\n",
    "20. 'euribor_3m' - euribor 3 month rate (daily indicator)\n",
    "21. 'n_employed' - thousands of people employed (quarterly indicator)"
   ]
  },
  {
   "cell_type": "code",
   "execution_count": 10,
   "id": "e4fac828",
   "metadata": {
    "scrolled": true
   },
   "outputs": [
    {
     "data": {
      "text/plain": [
       "days_since_prev\n",
       "999    39673\n",
       "3        439\n",
       "6        412\n",
       "4        118\n",
       "9         64\n",
       "2         61\n",
       "7         60\n",
       "12        58\n",
       "10        52\n",
       "5         46\n",
       "13        36\n",
       "11        28\n",
       "1         26\n",
       "15        24\n",
       "14        20\n",
       "8         18\n",
       "0         15\n",
       "16        11\n",
       "17         8\n",
       "18         7\n",
       "22         3\n",
       "19         3\n",
       "21         2\n",
       "25         1\n",
       "26         1\n",
       "27         1\n",
       "20         1\n",
       "Name: count, dtype: int64"
      ]
     },
     "execution_count": 10,
     "metadata": {},
     "output_type": "execute_result"
    }
   ],
   "source": [
    "df['days_since_prev'].value_counts()"
   ]
  },
  {
   "cell_type": "code",
   "execution_count": 11,
   "id": "d2408f34",
   "metadata": {},
   "outputs": [
    {
     "name": "stderr",
     "output_type": "stream",
     "text": [
      "C:\\Users\\asus\\AppData\\Local\\Temp\\ipykernel_24540\\3422073804.py:1: FutureWarning: A value is trying to be set on a copy of a DataFrame or Series through chained assignment using an inplace method.\n",
      "The behavior will change in pandas 3.0. This inplace method will never work because the intermediate object on which we are setting values always behaves as a copy.\n",
      "\n",
      "For example, when doing 'df[col].method(value, inplace=True)', try using 'df.method({col: value}, inplace=True)' or df[col] = df[col].method(value) instead, to perform the operation inplace on the original object.\n",
      "\n",
      "\n",
      "  df['days_since_prev'].replace(999, np.NaN, inplace=True)\n"
     ]
    }
   ],
   "source": [
    "df['days_since_prev'].replace(999, np.NaN, inplace=True)"
   ]
  },
  {
   "cell_type": "code",
   "execution_count": 12,
   "id": "4c7dc7c0",
   "metadata": {},
   "outputs": [
    {
     "data": {
      "text/plain": [
       "days_since_prev\n",
       "3.0     439\n",
       "6.0     412\n",
       "4.0     118\n",
       "9.0      64\n",
       "2.0      61\n",
       "7.0      60\n",
       "12.0     58\n",
       "10.0     52\n",
       "5.0      46\n",
       "13.0     36\n",
       "11.0     28\n",
       "1.0      26\n",
       "15.0     24\n",
       "14.0     20\n",
       "8.0      18\n",
       "0.0      15\n",
       "16.0     11\n",
       "17.0      8\n",
       "18.0      7\n",
       "22.0      3\n",
       "19.0      3\n",
       "21.0      2\n",
       "25.0      1\n",
       "26.0      1\n",
       "27.0      1\n",
       "20.0      1\n",
       "Name: count, dtype: int64"
      ]
     },
     "execution_count": 12,
     "metadata": {},
     "output_type": "execute_result"
    }
   ],
   "source": [
    "df['days_since_prev'].value_counts()"
   ]
  },
  {
   "cell_type": "code",
   "execution_count": 13,
   "id": "e415bfc2",
   "metadata": {},
   "outputs": [],
   "source": [
    "df.replace(['unknown', 'nonexistent'], np.NaN, inplace=True)"
   ]
  },
  {
   "cell_type": "code",
   "execution_count": 14,
   "id": "cb9f3c99",
   "metadata": {
    "scrolled": true
   },
   "outputs": [
    {
     "data": {
      "text/html": [
       "<div>\n",
       "<style scoped>\n",
       "    .dataframe tbody tr th:only-of-type {\n",
       "        vertical-align: middle;\n",
       "    }\n",
       "\n",
       "    .dataframe tbody tr th {\n",
       "        vertical-align: top;\n",
       "    }\n",
       "\n",
       "    .dataframe thead th {\n",
       "        text-align: right;\n",
       "    }\n",
       "</style>\n",
       "<table border=\"1\" class=\"dataframe\">\n",
       "  <thead>\n",
       "    <tr style=\"text-align: right;\">\n",
       "      <th></th>\n",
       "      <th>age</th>\n",
       "      <th>job</th>\n",
       "      <th>marital</th>\n",
       "      <th>education</th>\n",
       "      <th>default</th>\n",
       "      <th>housing</th>\n",
       "      <th>loan</th>\n",
       "      <th>contact_type</th>\n",
       "      <th>contact_month</th>\n",
       "      <th>contact_weekday</th>\n",
       "      <th>...</th>\n",
       "      <th>contact_count</th>\n",
       "      <th>days_since_prev</th>\n",
       "      <th>prev_contact_count</th>\n",
       "      <th>prev_outcome</th>\n",
       "      <th>emp_var_rate</th>\n",
       "      <th>cons_price_idx</th>\n",
       "      <th>cons_conf_idx</th>\n",
       "      <th>euribor_3m</th>\n",
       "      <th>n_employed</th>\n",
       "      <th>invested</th>\n",
       "    </tr>\n",
       "  </thead>\n",
       "  <tbody>\n",
       "    <tr>\n",
       "      <th>1266</th>\n",
       "      <td>39</td>\n",
       "      <td>blue-collar</td>\n",
       "      <td>married</td>\n",
       "      <td>basic.6y</td>\n",
       "      <td>no</td>\n",
       "      <td>no</td>\n",
       "      <td>no</td>\n",
       "      <td>telephone</td>\n",
       "      <td>may</td>\n",
       "      <td>thu</td>\n",
       "      <td>...</td>\n",
       "      <td>1</td>\n",
       "      <td>NaN</td>\n",
       "      <td>0</td>\n",
       "      <td>NaN</td>\n",
       "      <td>1.1</td>\n",
       "      <td>93.994</td>\n",
       "      <td>-36.4</td>\n",
       "      <td>4.855</td>\n",
       "      <td>5191.0</td>\n",
       "      <td>no</td>\n",
       "    </tr>\n",
       "    <tr>\n",
       "      <th>12261</th>\n",
       "      <td>36</td>\n",
       "      <td>retired</td>\n",
       "      <td>married</td>\n",
       "      <td>NaN</td>\n",
       "      <td>no</td>\n",
       "      <td>no</td>\n",
       "      <td>no</td>\n",
       "      <td>telephone</td>\n",
       "      <td>jul</td>\n",
       "      <td>thu</td>\n",
       "      <td>...</td>\n",
       "      <td>1</td>\n",
       "      <td>NaN</td>\n",
       "      <td>0</td>\n",
       "      <td>NaN</td>\n",
       "      <td>1.4</td>\n",
       "      <td>93.918</td>\n",
       "      <td>-42.7</td>\n",
       "      <td>4.966</td>\n",
       "      <td>5228.1</td>\n",
       "      <td>no</td>\n",
       "    </tr>\n",
       "    <tr>\n",
       "      <th>14234</th>\n",
       "      <td>27</td>\n",
       "      <td>technician</td>\n",
       "      <td>single</td>\n",
       "      <td>professional.course</td>\n",
       "      <td>no</td>\n",
       "      <td>no</td>\n",
       "      <td>no</td>\n",
       "      <td>cellular</td>\n",
       "      <td>jul</td>\n",
       "      <td>mon</td>\n",
       "      <td>...</td>\n",
       "      <td>2</td>\n",
       "      <td>NaN</td>\n",
       "      <td>0</td>\n",
       "      <td>NaN</td>\n",
       "      <td>1.4</td>\n",
       "      <td>93.918</td>\n",
       "      <td>-42.7</td>\n",
       "      <td>4.962</td>\n",
       "      <td>5228.1</td>\n",
       "      <td>no</td>\n",
       "    </tr>\n",
       "    <tr>\n",
       "      <th>16956</th>\n",
       "      <td>47</td>\n",
       "      <td>technician</td>\n",
       "      <td>divorced</td>\n",
       "      <td>high.school</td>\n",
       "      <td>no</td>\n",
       "      <td>yes</td>\n",
       "      <td>no</td>\n",
       "      <td>cellular</td>\n",
       "      <td>jul</td>\n",
       "      <td>thu</td>\n",
       "      <td>...</td>\n",
       "      <td>3</td>\n",
       "      <td>NaN</td>\n",
       "      <td>0</td>\n",
       "      <td>NaN</td>\n",
       "      <td>1.4</td>\n",
       "      <td>93.918</td>\n",
       "      <td>-42.7</td>\n",
       "      <td>4.962</td>\n",
       "      <td>5228.1</td>\n",
       "      <td>no</td>\n",
       "    </tr>\n",
       "    <tr>\n",
       "      <th>18465</th>\n",
       "      <td>32</td>\n",
       "      <td>technician</td>\n",
       "      <td>single</td>\n",
       "      <td>professional.course</td>\n",
       "      <td>no</td>\n",
       "      <td>yes</td>\n",
       "      <td>no</td>\n",
       "      <td>cellular</td>\n",
       "      <td>jul</td>\n",
       "      <td>thu</td>\n",
       "      <td>...</td>\n",
       "      <td>1</td>\n",
       "      <td>NaN</td>\n",
       "      <td>0</td>\n",
       "      <td>NaN</td>\n",
       "      <td>1.4</td>\n",
       "      <td>93.918</td>\n",
       "      <td>-42.7</td>\n",
       "      <td>4.968</td>\n",
       "      <td>5228.1</td>\n",
       "      <td>no</td>\n",
       "    </tr>\n",
       "    <tr>\n",
       "      <th>20216</th>\n",
       "      <td>55</td>\n",
       "      <td>services</td>\n",
       "      <td>married</td>\n",
       "      <td>high.school</td>\n",
       "      <td>NaN</td>\n",
       "      <td>no</td>\n",
       "      <td>no</td>\n",
       "      <td>cellular</td>\n",
       "      <td>aug</td>\n",
       "      <td>mon</td>\n",
       "      <td>...</td>\n",
       "      <td>1</td>\n",
       "      <td>NaN</td>\n",
       "      <td>0</td>\n",
       "      <td>NaN</td>\n",
       "      <td>1.4</td>\n",
       "      <td>93.444</td>\n",
       "      <td>-36.1</td>\n",
       "      <td>4.965</td>\n",
       "      <td>5228.1</td>\n",
       "      <td>no</td>\n",
       "    </tr>\n",
       "    <tr>\n",
       "      <th>20534</th>\n",
       "      <td>41</td>\n",
       "      <td>technician</td>\n",
       "      <td>married</td>\n",
       "      <td>professional.course</td>\n",
       "      <td>no</td>\n",
       "      <td>yes</td>\n",
       "      <td>no</td>\n",
       "      <td>cellular</td>\n",
       "      <td>aug</td>\n",
       "      <td>tue</td>\n",
       "      <td>...</td>\n",
       "      <td>1</td>\n",
       "      <td>NaN</td>\n",
       "      <td>0</td>\n",
       "      <td>NaN</td>\n",
       "      <td>1.4</td>\n",
       "      <td>93.444</td>\n",
       "      <td>-36.1</td>\n",
       "      <td>4.966</td>\n",
       "      <td>5228.1</td>\n",
       "      <td>no</td>\n",
       "    </tr>\n",
       "    <tr>\n",
       "      <th>25217</th>\n",
       "      <td>39</td>\n",
       "      <td>admin.</td>\n",
       "      <td>married</td>\n",
       "      <td>university.degree</td>\n",
       "      <td>no</td>\n",
       "      <td>no</td>\n",
       "      <td>no</td>\n",
       "      <td>cellular</td>\n",
       "      <td>nov</td>\n",
       "      <td>tue</td>\n",
       "      <td>...</td>\n",
       "      <td>2</td>\n",
       "      <td>NaN</td>\n",
       "      <td>0</td>\n",
       "      <td>NaN</td>\n",
       "      <td>-0.1</td>\n",
       "      <td>93.200</td>\n",
       "      <td>-42.0</td>\n",
       "      <td>4.153</td>\n",
       "      <td>5195.8</td>\n",
       "      <td>no</td>\n",
       "    </tr>\n",
       "    <tr>\n",
       "      <th>28477</th>\n",
       "      <td>24</td>\n",
       "      <td>services</td>\n",
       "      <td>single</td>\n",
       "      <td>high.school</td>\n",
       "      <td>no</td>\n",
       "      <td>yes</td>\n",
       "      <td>no</td>\n",
       "      <td>cellular</td>\n",
       "      <td>apr</td>\n",
       "      <td>tue</td>\n",
       "      <td>...</td>\n",
       "      <td>1</td>\n",
       "      <td>NaN</td>\n",
       "      <td>0</td>\n",
       "      <td>NaN</td>\n",
       "      <td>-1.8</td>\n",
       "      <td>93.075</td>\n",
       "      <td>-47.1</td>\n",
       "      <td>1.423</td>\n",
       "      <td>5099.1</td>\n",
       "      <td>no</td>\n",
       "    </tr>\n",
       "    <tr>\n",
       "      <th>32516</th>\n",
       "      <td>35</td>\n",
       "      <td>admin.</td>\n",
       "      <td>married</td>\n",
       "      <td>university.degree</td>\n",
       "      <td>no</td>\n",
       "      <td>yes</td>\n",
       "      <td>no</td>\n",
       "      <td>cellular</td>\n",
       "      <td>may</td>\n",
       "      <td>fri</td>\n",
       "      <td>...</td>\n",
       "      <td>4</td>\n",
       "      <td>NaN</td>\n",
       "      <td>0</td>\n",
       "      <td>NaN</td>\n",
       "      <td>-1.8</td>\n",
       "      <td>92.893</td>\n",
       "      <td>-46.2</td>\n",
       "      <td>1.313</td>\n",
       "      <td>5099.1</td>\n",
       "      <td>no</td>\n",
       "    </tr>\n",
       "    <tr>\n",
       "      <th>36951</th>\n",
       "      <td>45</td>\n",
       "      <td>admin.</td>\n",
       "      <td>married</td>\n",
       "      <td>university.degree</td>\n",
       "      <td>no</td>\n",
       "      <td>no</td>\n",
       "      <td>no</td>\n",
       "      <td>cellular</td>\n",
       "      <td>jul</td>\n",
       "      <td>thu</td>\n",
       "      <td>...</td>\n",
       "      <td>1</td>\n",
       "      <td>NaN</td>\n",
       "      <td>0</td>\n",
       "      <td>NaN</td>\n",
       "      <td>-2.9</td>\n",
       "      <td>92.469</td>\n",
       "      <td>-33.6</td>\n",
       "      <td>1.072</td>\n",
       "      <td>5076.2</td>\n",
       "      <td>yes</td>\n",
       "    </tr>\n",
       "    <tr>\n",
       "      <th>38281</th>\n",
       "      <td>71</td>\n",
       "      <td>retired</td>\n",
       "      <td>single</td>\n",
       "      <td>university.degree</td>\n",
       "      <td>no</td>\n",
       "      <td>no</td>\n",
       "      <td>no</td>\n",
       "      <td>telephone</td>\n",
       "      <td>oct</td>\n",
       "      <td>tue</td>\n",
       "      <td>...</td>\n",
       "      <td>1</td>\n",
       "      <td>NaN</td>\n",
       "      <td>0</td>\n",
       "      <td>NaN</td>\n",
       "      <td>-3.4</td>\n",
       "      <td>92.431</td>\n",
       "      <td>-26.9</td>\n",
       "      <td>0.742</td>\n",
       "      <td>5017.5</td>\n",
       "      <td>no</td>\n",
       "    </tr>\n",
       "  </tbody>\n",
       "</table>\n",
       "<p>12 rows × 21 columns</p>\n",
       "</div>"
      ],
      "text/plain": [
       "       age          job   marital            education default housing loan  \\\n",
       "1266    39  blue-collar   married             basic.6y      no      no   no   \n",
       "12261   36      retired   married                  NaN      no      no   no   \n",
       "14234   27   technician    single  professional.course      no      no   no   \n",
       "16956   47   technician  divorced          high.school      no     yes   no   \n",
       "18465   32   technician    single  professional.course      no     yes   no   \n",
       "20216   55     services   married          high.school     NaN      no   no   \n",
       "20534   41   technician   married  professional.course      no     yes   no   \n",
       "25217   39       admin.   married    university.degree      no      no   no   \n",
       "28477   24     services    single          high.school      no     yes   no   \n",
       "32516   35       admin.   married    university.degree      no     yes   no   \n",
       "36951   45       admin.   married    university.degree      no      no   no   \n",
       "38281   71      retired    single    university.degree      no      no   no   \n",
       "\n",
       "      contact_type contact_month contact_weekday  ...  contact_count  \\\n",
       "1266     telephone           may             thu  ...              1   \n",
       "12261    telephone           jul             thu  ...              1   \n",
       "14234     cellular           jul             mon  ...              2   \n",
       "16956     cellular           jul             thu  ...              3   \n",
       "18465     cellular           jul             thu  ...              1   \n",
       "20216     cellular           aug             mon  ...              1   \n",
       "20534     cellular           aug             tue  ...              1   \n",
       "25217     cellular           nov             tue  ...              2   \n",
       "28477     cellular           apr             tue  ...              1   \n",
       "32516     cellular           may             fri  ...              4   \n",
       "36951     cellular           jul             thu  ...              1   \n",
       "38281    telephone           oct             tue  ...              1   \n",
       "\n",
       "       days_since_prev  prev_contact_count  prev_outcome emp_var_rate  \\\n",
       "1266               NaN                   0           NaN          1.1   \n",
       "12261              NaN                   0           NaN          1.4   \n",
       "14234              NaN                   0           NaN          1.4   \n",
       "16956              NaN                   0           NaN          1.4   \n",
       "18465              NaN                   0           NaN          1.4   \n",
       "20216              NaN                   0           NaN          1.4   \n",
       "20534              NaN                   0           NaN          1.4   \n",
       "25217              NaN                   0           NaN         -0.1   \n",
       "28477              NaN                   0           NaN         -1.8   \n",
       "32516              NaN                   0           NaN         -1.8   \n",
       "36951              NaN                   0           NaN         -2.9   \n",
       "38281              NaN                   0           NaN         -3.4   \n",
       "\n",
       "       cons_price_idx  cons_conf_idx  euribor_3m  n_employed  invested  \n",
       "1266           93.994          -36.4       4.855      5191.0        no  \n",
       "12261          93.918          -42.7       4.966      5228.1        no  \n",
       "14234          93.918          -42.7       4.962      5228.1        no  \n",
       "16956          93.918          -42.7       4.962      5228.1        no  \n",
       "18465          93.918          -42.7       4.968      5228.1        no  \n",
       "20216          93.444          -36.1       4.965      5228.1        no  \n",
       "20534          93.444          -36.1       4.966      5228.1        no  \n",
       "25217          93.200          -42.0       4.153      5195.8        no  \n",
       "28477          93.075          -47.1       1.423      5099.1        no  \n",
       "32516          92.893          -46.2       1.313      5099.1        no  \n",
       "36951          92.469          -33.6       1.072      5076.2       yes  \n",
       "38281          92.431          -26.9       0.742      5017.5        no  \n",
       "\n",
       "[12 rows x 21 columns]"
      ]
     },
     "metadata": {},
     "output_type": "display_data"
    }
   ],
   "source": [
    "display(df.loc[df.duplicated()])\n",
    "df.drop_duplicates(inplace=True)"
   ]
  },
  {
   "cell_type": "code",
   "execution_count": null,
   "id": "a6e766ac",
   "metadata": {},
   "outputs": [],
   "source": [
    "df.info()"
   ]
  },
  {
   "cell_type": "code",
   "execution_count": null,
   "id": "3a7447f7",
   "metadata": {},
   "outputs": [],
   "source": [
    "df\n"
   ]
  },
  {
   "cell_type": "code",
   "execution_count": null,
   "id": "b8195067",
   "metadata": {},
   "outputs": [],
   "source": [
    "# List columns with string 'yes' and 'no' values\n",
    "string_cols = ['default', 'housing', 'loan', 'invested']\n",
    "\n",
    "# convert 'yes' and 'no' to 1 and 0\n",
    "df[string_cols] = df[string_cols].apply(lambda x: x.map({'yes': 1, 'no': 0}))"
   ]
  },
  {
   "cell_type": "code",
   "execution_count": null,
   "id": "c438ac1f",
   "metadata": {},
   "outputs": [],
   "source": [
    "df \n"
   ]
  },
  {
   "cell_type": "code",
   "execution_count": null,
   "id": "80489f05",
   "metadata": {},
   "outputs": [],
   "source": [
    "sns.countplot(x='invested', data=df)\n",
    "\n",
    "plt.xlabel('Invested')\n",
    "plt.ylabel('Count')\n",
    "\n",
    "plt.show()"
   ]
  },
  {
   "cell_type": "code",
   "execution_count": null,
   "id": "e1cf9a2a",
   "metadata": {
    "scrolled": true
   },
   "outputs": [],
   "source": [
    "# Sales result of previous campaign\n",
    "df.prev_outcome.value_counts()"
   ]
  },
  {
   "cell_type": "code",
   "execution_count": null,
   "id": "c95d9f83",
   "metadata": {},
   "outputs": [],
   "source": [
    "# One-hot encode 'prev_outcome' categories: {'failure', 'success'}\n",
    "df = pd.get_dummies(df, columns=['prev_outcome'], prefix=\"prev\")"
   ]
  },
  {
   "cell_type": "code",
   "execution_count": null,
   "id": "e6761758",
   "metadata": {},
   "outputs": [],
   "source": [
    "df"
   ]
  },
  {
   "cell_type": "code",
   "execution_count": null,
   "id": "b9a3bbb4",
   "metadata": {},
   "outputs": [],
   "source": [
    "df['days_since_prev'].value_counts()"
   ]
  },
  {
   "cell_type": "markdown",
   "id": "99e64f1c",
   "metadata": {},
   "source": [
    "The third quartile of \"days_since_prev\" is exactly 7 days, as illustrated by the dashed red line on the boxplot below. This seems like a good cutoff for turning \"days_since_prev\" into a categorical."
   ]
  },
  {
   "cell_type": "code",
   "execution_count": null,
   "id": "7f519e4a",
   "metadata": {},
   "outputs": [],
   "source": [
    "fig, (ax1, ax2) = plt.subplots(ncols=2, figsize=(12, 4))\n",
    "\n",
    "# Plot boxplot and hist\n",
    "sns.boxplot(data=df, x=\"days_since_prev\", ax=ax1)\n",
    "sns.histplot(data=df, x=\"days_since_prev\", ax=ax2)\n",
    "\n",
    "# Add line at 7 days\n",
    "for ax in [ax1, ax2]:\n",
    "    ax.axvline(7, c=\"r\", ls=\"--\")\n",
    "\n",
    "fig.tight_layout()\n",
    " "
   ]
  },
  {
   "cell_type": "code",
   "execution_count": null,
   "id": "b0f1b3e9",
   "metadata": {},
   "outputs": [],
   "source": [
    "# will replace the 'days_since_prev' feature to 'recent_prev_contact'\n",
    "df[\"recent_prev_contact\"] = df['days_since_prev'] <= 7\n",
    "\n",
    "df['recent_prev_contact'].value_counts(1)"
   ]
  },
  {
   "cell_type": "code",
   "execution_count": null,
   "id": "8d7e5273",
   "metadata": {},
   "outputs": [],
   "source": [
    "df['prev_contact_count'].value_counts()"
   ]
  },
  {
   "cell_type": "code",
   "execution_count": null,
   "id": "c3b783af",
   "metadata": {},
   "outputs": [],
   "source": [
    "df['has_prev_contact'] = df['prev_contact_count'].apply(lambda x: 1 if x > 0 else 0)\n",
    "df['has_prev_contact'] "
   ]
  },
  {
   "cell_type": "code",
   "execution_count": null,
   "id": "c209fb68",
   "metadata": {},
   "outputs": [],
   "source": [
    "df.contact_type.value_counts()"
   ]
  },
  {
   "cell_type": "code",
   "execution_count": null,
   "id": "79c8dc8c",
   "metadata": {},
   "outputs": [],
   "source": [
    "# Create boolean feature\n",
    "df[\"contact_cellular\"] = df[\"contact_type\"] == \"cellular\"\n",
    "\n",
    "# Display distribution\n",
    "df[\"contact_cellular\"].value_counts()"
   ]
  },
  {
   "cell_type": "code",
   "execution_count": null,
   "id": "2507741d",
   "metadata": {},
   "outputs": [],
   "source": [
    "# List features to drop\n",
    "to_drop = ['days_since_prev', 'prev_contact_count', 'contact_type']\n",
    "\n",
    "# Drop them in place\n",
    "df.drop(to_drop, axis=1, inplace=True)\n",
    "\n",
    "# Show results\n",
    "df.columns"
   ]
  },
  {
   "cell_type": "code",
   "execution_count": null,
   "id": "70ac4bf0",
   "metadata": {},
   "outputs": [],
   "source": [
    "df.info()"
   ]
  },
  {
   "cell_type": "code",
   "execution_count": null,
   "id": "5340eb9c",
   "metadata": {
    "scrolled": true
   },
   "outputs": [],
   "source": [
    "df.nunique()"
   ]
  },
  {
   "cell_type": "code",
   "execution_count": null,
   "id": "f3564226",
   "metadata": {},
   "outputs": [],
   "source": [
    "# default , housing , loan, invested, prev_failure, prev_success, recent_prev_contact,has_prev_contact , contact_cellular\n",
    "binary_cats = ['default', 'housing', 'loan', 'invested', 'prev_failure', 'prev_success', 'recent_prev_contact', 'has_prev_contact', 'contact_cellular']\n",
    "\n",
    "# Convert to float\n",
    "df[binary_cats] = df[binary_cats].astype(np.float64)\n",
    "df[binary_cats]"
   ]
  },
  {
   "cell_type": "code",
   "execution_count": null,
   "id": "a9d225b2",
   "metadata": {},
   "outputs": [],
   "source": [
    "df.default.value_counts()"
   ]
  },
  {
   "cell_type": "code",
   "execution_count": null,
   "id": "4970fd53",
   "metadata": {},
   "outputs": [],
   "source": [
    "# will drop the default features\n",
    "df.drop(columns=['default'], inplace=True)\n",
    "binary_cats.remove('default')"
   ]
  },
  {
   "cell_type": "markdown",
   "id": "387b23ae",
   "metadata": {},
   "source": [
    "### Multi-class Categoricals"
   ]
  },
  {
   "cell_type": "code",
   "execution_count": null,
   "id": "794c6be5",
   "metadata": {},
   "outputs": [],
   "source": [
    "# List multi-class categoricals\n",
    "multi_cat = ['job', 'marital', 'education', 'contact_month', 'contact_weekday']\n",
    "\n",
    "# Tweak some labels\n",
    "df['job'] = df['job'].str.replace('.', '', regex=False)\n",
    "df['job'] = df['job'].str.replace('-', '', regex=False)\n",
    "df['education'] = df['education'].str.replace('.', '_', regex=False)\n",
    "\n",
    "# Convert to unordered categoricals\n",
    "df[multi_cat] =df[multi_cat].astype('category')"
   ]
  },
  {
   "cell_type": "code",
   "execution_count": null,
   "id": "07fbb9d6",
   "metadata": {},
   "outputs": [],
   "source": [
    "df.job.unique"
   ]
  },
  {
   "cell_type": "code",
   "execution_count": null,
   "id": "1593a546",
   "metadata": {},
   "outputs": [],
   "source": [
    "plt.figure(figsize=(15, 8))\n",
    "\n",
    "# Loop through each categorical feature and plot its countplot\n",
    "for feature in multi_cat:\n",
    "    plt.figure(figsize=(10, 5))\n",
    "    sns.countplot(data=df, x=feature, order=df[feature].value_counts().index)\n",
    "    plt.title(f'Count Plot for {feature}')\n",
    "    plt.xticks(rotation=45)\n",
    "    plt.show()"
   ]
  },
  {
   "cell_type": "code",
   "execution_count": null,
   "id": "8e99efba",
   "metadata": {},
   "outputs": [],
   "source": [
    "df"
   ]
  },
  {
   "cell_type": "code",
   "execution_count": null,
   "id": "f4cdcf5d",
   "metadata": {},
   "outputs": [],
   "source": [
    "df.marital.value_counts()"
   ]
  },
  {
   "cell_type": "code",
   "execution_count": null,
   "id": "2a78da1d",
   "metadata": {},
   "outputs": [],
   "source": [
    "df.education.value_counts()"
   ]
  },
  {
   "cell_type": "code",
   "execution_count": null,
   "id": "7c938945",
   "metadata": {},
   "outputs": [],
   "source": [
    "df.contact_month.value_counts()"
   ]
  },
  {
   "cell_type": "code",
   "execution_count": null,
   "id": "f81fe5c7",
   "metadata": {},
   "outputs": [],
   "source": [
    "# Compute rows to keep\n",
    "keep = (df.education != \"illiterate\") & (df.contact_month != \"dec\")\n",
    "\n",
    "# Overwrite `df` with keeper rows\n",
    "df = df.loc[keep].copy()"
   ]
  },
  {
   "cell_type": "code",
   "execution_count": null,
   "id": "dc7bd746",
   "metadata": {},
   "outputs": [],
   "source": [
    "df[\"education\"] = df[\"education\"].cat.remove_unused_categories()\n",
    "df[\"contact_month\"] = df[\"contact_month\"].cat.remove_unused_categories()"
   ]
  },
  {
   "cell_type": "code",
   "execution_count": null,
   "id": "9ee9f485",
   "metadata": {},
   "outputs": [],
   "source": [
    "df.contact_month.value_counts()"
   ]
  },
  {
   "cell_type": "code",
   "execution_count": null,
   "id": "717f11b8",
   "metadata": {},
   "outputs": [],
   "source": [
    "df.education.value_counts()"
   ]
  },
  {
   "cell_type": "code",
   "execution_count": null,
   "id": "945f5412",
   "metadata": {},
   "outputs": [],
   "source": [
    "df.info()"
   ]
  },
  {
   "cell_type": "code",
   "execution_count": null,
   "id": "2a7c2b7a",
   "metadata": {},
   "outputs": [],
   "source": [
    "# Define the order for days and months\n",
    "days = [\"mon\", \"tue\", \"wed\", \"thu\", \"fri\"]\n",
    "months = [\"mar\", \"apr\", \"may\", \"jun\", \"jul\", \"aug\", \"sep\", \"oct\", \"nov\"]\n",
    "\n",
    "\n",
    "# Convert 'contact_weekday' to an ordered categorical type\n",
    "df['contact_weekday'] = pd.Categorical(df['contact_weekday'], categories=days, ordered=True)\n",
    "\n",
    "# Convert 'contact_month' to an ordered categorical type\n",
    "df['contact_month'] = pd.Categorical(df['contact_month'], categories=months, ordered=True)\n"
   ]
  },
  {
   "cell_type": "code",
   "execution_count": null,
   "id": "b382b1f5",
   "metadata": {},
   "outputs": [],
   "source": [
    "print(df['contact_weekday'].dtype)\n",
    "print(df['contact_month'].dtype)\n"
   ]
  },
  {
   "cell_type": "code",
   "execution_count": null,
   "id": "4d0dafc2",
   "metadata": {},
   "outputs": [],
   "source": [
    "df.info()"
   ]
  },
  {
   "cell_type": "code",
   "execution_count": null,
   "id": "cd08ef52",
   "metadata": {},
   "outputs": [],
   "source": [
    "df.duplicated().sum()"
   ]
  },
  {
   "cell_type": "code",
   "execution_count": null,
   "id": "3201a963",
   "metadata": {},
   "outputs": [],
   "source": [
    "duplicated_df = df[df.duplicated()]\n",
    "df = df.drop(duplicated_df.index)"
   ]
  },
  {
   "cell_type": "code",
   "execution_count": null,
   "id": "5baac464",
   "metadata": {},
   "outputs": [],
   "source": [
    "df.shape"
   ]
  },
  {
   "cell_type": "markdown",
   "id": "efaa88e1",
   "metadata": {},
   "source": [
    "## EDA"
   ]
  },
  {
   "cell_type": "code",
   "execution_count": null,
   "id": "0f6c24aa",
   "metadata": {},
   "outputs": [],
   "source": [
    "# corr_matrix = df.corr()\n",
    "# Select only numerical columns\n",
    "numerical_df = df.select_dtypes(include=[np.number])\n",
    "\n",
    "# Calculate the correlation matrix\n",
    "corr_matrix = numerical_df.corr()"
   ]
  },
  {
   "cell_type": "code",
   "execution_count": null,
   "id": "f05ef16f",
   "metadata": {},
   "outputs": [],
   "source": [
    "plt.figure(figsize=(12, 10))\n",
    "\n",
    "sns.heatmap(corr_matrix,annot=True, fmt=\".2f\", cmap='coolwarm', linewidths =0.5)\n",
    "\n",
    "# Title for the heatmap\n",
    "plt.title('Correlation Matrix of Features', fontsize=16)\n",
    "\n",
    "plt.show()"
   ]
  },
  {
   "cell_type": "markdown",
   "id": "81c0af86",
   "metadata": {},
   "source": [
    "Unsurprisingly, 'prev_success' and 'recent_prev_contact' have strong positive relationships. Strangely, 'n_employed' has a strong negative relationship with the target, meaning that people tend to invest when fewer people are employed.\n",
    "\n",
    "Some of the economic context variables like 'euribor_3m', 'n_employed' and 'emp_var_rate' are highly correlated. 'recent_prev_contact' is highly correlated with 'prev_success', as is 'rev_contact' with 'prev_failure'."
   ]
  },
  {
   "cell_type": "code",
   "execution_count": null,
   "id": "3ccf0a33",
   "metadata": {},
   "outputs": [],
   "source": [
    "# Convert categorical variables into one-hot encoded variables\n",
    "categorical = ['marital', 'job' , 'education']\n",
    "numeric_features = df.select_dtypes(include=['int64', 'float64'])\n",
    "df_encoded = pd.get_dummies(df[categorical], drop_first=True)\n",
    "df_combined = pd.concat([numeric_features, df_encoded], axis=1)\n",
    "\n",
    "# Calculate the correlation matrix\n",
    "corr_matrix = df_combined.corr()\n",
    "\n",
    "corr_with_categorical = corr_matrix.loc[numeric_features.columns, df_encoded.columns]\n",
    "# Plot the heatmap\n",
    "plt.figure(figsize=(12, 10))\n",
    "sns.heatmap(corr_with_categorical, annot=True, fmt=\".2f\", cmap='coolwarm', linewidths =0.5)\n",
    "plt.title('Correlation Heatmap of Categorical Features')\n",
    "\n",
    "plt.show()"
   ]
  },
  {
   "cell_type": "markdown",
   "id": "018f210a",
   "metadata": {},
   "source": [
    "The jobs, education levels, and marital statuses seem more interestingly related to 'age' than anything else. There are some weaker relationships here as well"
   ]
  },
  {
   "cell_type": "code",
   "execution_count": null,
   "id": "59ceb75e",
   "metadata": {
    "scrolled": true
   },
   "outputs": [],
   "source": [
    "temporal = [\"contact_weekday\", \"contact_month\"] \n",
    "numeric_features = df.select_dtypes(include=['int64', 'float64'])\n",
    "df_encoded = pd.get_dummies(df[temporal], drop_first=True)\n",
    "df_combined = pd.concat([ df_encoded, numeric_features], axis=1)\n",
    "\n",
    "# Calculate the correlation matrix\n",
    "corr_matrix = df_combined.corr()\n",
    "\n",
    "corr_with_categorical = corr_matrix.loc[df_encoded.columns, numeric_features.columns]\n",
    "# Plot the heatmap\n",
    "plt.figure(figsize=(12, 10))\n",
    "sns.heatmap(corr_with_categorical, annot=True, fmt=\".2f\", cmap='coolwarm', linewidths =0.5)\n",
    "plt.title('Correlation with Numeric Features')\n",
    "\n",
    "plt.show()"
   ]
  },
  {
   "cell_type": "code",
   "execution_count": null,
   "id": "a4986fce",
   "metadata": {
    "scrolled": true
   },
   "outputs": [],
   "source": [
    "df.isnull().sum()"
   ]
  },
  {
   "cell_type": "markdown",
   "id": "6067efe1",
   "metadata": {},
   "source": [
    "## Modeling"
   ]
  },
  {
   "cell_type": "code",
   "execution_count": null,
   "id": "04fe0423",
   "metadata": {},
   "outputs": [],
   "source": [
    "# !pip uninstall feature-engine\n",
    "!pip install feature-engine\n"
   ]
  },
  {
   "cell_type": "code",
   "execution_count": null,
   "id": "804d0ded",
   "metadata": {},
   "outputs": [],
   "source": [
    "!pip show feature-engine"
   ]
  },
  {
   "cell_type": "code",
   "execution_count": null,
   "id": "f1d41a81",
   "metadata": {},
   "outputs": [],
   "source": [
    "import joblib\n",
    "# from feature_engine.outliers import Winsorizer\n",
    "from feature_engine.imputation import ArbitraryNumberImputer\n",
    "from feature_engine.wrappers import SklearnTransformerWrapper\n",
    "from feature_engine.selection import SmartCorrelatedSelection\n",
    "from sklearn.base import clone\n",
    "from sklearn.preprocessing import OneHotEncoder\n",
    "from sklearn.compose import ColumnTransformer\n",
    "from sklearn.dummy import DummyClassifier\n",
    "from sklearn.impute import SimpleImputer\n",
    "from sklearn.linear_model import LogisticRegression\n",
    "from sklearn.feature_selection import VarianceThreshold\n",
    "from sklearn.model_selection import train_test_split\n",
    "from sklearn.pipeline import Pipeline, make_pipeline\n",
    "from sklearn.preprocessing import StandardScaler, FunctionTransformer\n",
    "from sklearn.metrics import classification_report, accuracy_score, confusion_matrix"
   ]
  },
  {
   "cell_type": "code",
   "execution_count": null,
   "id": "3cbbfcd0",
   "metadata": {
    "scrolled": true
   },
   "outputs": [],
   "source": [
    "# Train-Test split\n",
    "X = df.drop(columns=['invested', 'contact_duration'])\n",
    "\n",
    "y=df['invested']\n",
    "\n",
    "X_train, X_test, y_train, y_test = train_test_split(X, y,test_size=0.2, random_state=42)\n",
    "X_train.shape, X_test.shape, y_train.shape, y_test.shape"
   ]
  },
  {
   "cell_type": "markdown",
   "id": "d570df6e",
   "metadata": {},
   "source": [
    "There are some missing values for the job , education, housing, loan, marital\n",
    "The pipleine must handle the missing values."
   ]
  },
  {
   "cell_type": "markdown",
   "id": "609718d9",
   "metadata": {},
   "source": [
    "## Baseline Classifier Pipeline"
   ]
  },
  {
   "cell_type": "code",
   "execution_count": null,
   "id": "3e9f0f85",
   "metadata": {},
   "outputs": [],
   "source": [
    "corr_trimmer = SmartCorrelatedSelection(\n",
    "    method='pearson',\n",
    "    threshold=0.8,\n",
    "    selection_method=\"variance\",\n",
    "    missing_values='ignore' )\n",
    "# Fit and transform the data\n",
    "df_transformed = corr_trimmer.fit_transform(X_train)\n",
    "print('Transformed DataFrame:')\n",
    "print(df_transformed.head())"
   ]
  },
  {
   "cell_type": "code",
   "execution_count": null,
   "id": "08e571c7",
   "metadata": {},
   "outputs": [],
   "source": [
    "df.shape"
   ]
  },
  {
   "cell_type": "code",
   "execution_count": null,
   "id": "0d01f626",
   "metadata": {},
   "outputs": [],
   "source": [
    "df_transformed.shape"
   ]
  },
  {
   "cell_type": "code",
   "execution_count": null,
   "id": "2b9509c4",
   "metadata": {},
   "outputs": [],
   "source": [
    "df_transformed.columns"
   ]
  },
  {
   "cell_type": "code",
   "execution_count": null,
   "id": "fe5eb4f0",
   "metadata": {},
   "outputs": [],
   "source": [
    "df.columns"
   ]
  },
  {
   "cell_type": "code",
   "execution_count": null,
   "id": "93d8b2fe",
   "metadata": {},
   "outputs": [],
   "source": [
    "df.info()"
   ]
  },
  {
   "cell_type": "code",
   "execution_count": null,
   "id": "c0c65d44",
   "metadata": {},
   "outputs": [],
   "source": [
    "# Define the preprocessing steps\n",
    "categorical_features = X_train.select_dtypes(include=['category']).columns.tolist()\n",
    "numerical_features = X_train.select_dtypes(include=['int64', 'float64']).columns.tolist()\n",
    "# categorical_features = ['job', 'marital', 'education', 'contact_month', 'contact_weekday']\n",
    "# numerical_features = ['age', 'housing', 'loan', 'contact_count', 'emp_var_rate', 'cons_price_idx', 'cons_conf_idx', 'euribor_3m', 'n_employed', 'prev_failure', 'prev_success', 'recent_prev_contact', 'has_prev_contact', 'contact_cellular']\n",
    "\n",
    "\n",
    "# Create a transformer for numerical features\n",
    "numeric_transformer = Pipeline(steps=[\n",
    "    ('imputer', SimpleImputer(strategy='mean')), # Replace missing values with the mean\n",
    "    ('scaler', StandardScaler()) # Standardize the numerical variables\n",
    "])\n",
    "\n",
    "# Create a transformer for categorical features\n",
    "categorical_transformer = Pipeline(steps=[\n",
    "    ('imputer', SimpleImputer(strategy='most_frequent')),  # Replace missing values with the most frequent value\n",
    "    ('onehot', OneHotEncoder(handle_unknown='ignore'))  # One-hot encode the categorical variables\n",
    "])\n",
    "\n",
    "# Combine the preprocessing steps\n",
    "preprocessor = ColumnTransformer(\n",
    "    transformers=[\n",
    "        ('num', numeric_transformer, numerical_features),\n",
    "        ('cat', categorical_transformer, categorical_features)\n",
    "    ],\n",
    "    remainder='passthrough' # Keep the remaining columns as they are\n",
    ")"
   ]
  },
  {
   "cell_type": "code",
   "execution_count": null,
   "id": "0dee5471",
   "metadata": {},
   "outputs": [],
   "source": [
    "print(\"Columns in X_train:\", X_train.columns)"
   ]
  },
  {
   "cell_type": "code",
   "execution_count": null,
   "id": "a7585270",
   "metadata": {},
   "outputs": [],
   "source": [
    "# Define the pipeline\n",
    "classifier_pipe = Pipeline(steps=[\n",
    "    ('preprocessor', preprocessor),\n",
    "    ('corr_trimmer', corr_trimmer), #trims highly correlated features\n",
    "    ('classifier', DummyClassifier(strategy='most_frequent')) \n",
    "   ])\n",
    "\n",
    "classifier_pipe"
   ]
  },
  {
   "cell_type": "code",
   "execution_count": null,
   "id": "f5ed8a7c",
   "metadata": {
    "scrolled": false
   },
   "outputs": [],
   "source": [
    "# Fit the pipeline on the training data\n",
    "classifier_pipe[\"classifier\"].set_params(strategy=\"stratified\", random_state=60)\n",
    "classifier_pipe.fit(X_train, y_train)\n",
    "\n",
    "# Predict on the test data\n",
    "y_pred = classifier_pipe.predict(X_test)\n",
    "\n",
    "# Generate a classification report\n",
    "report = classification_report(y_test, y_pred, zero_division=0)\n",
    "print(\"Classification Report:\\n\", report)\n",
    "\n",
    "# Calculate accuracy\n",
    "accuracy = accuracy_score(y_test, y_pred)\n",
    "print(\"Accuracy:\", accuracy)\n",
    "\n",
    "# Generate a confusion matrix\n",
    "conf_matrix = confusion_matrix(y_test, y_pred)\n",
    "print(\"Confusion Matrix:\\n\", conf_matrix)"
   ]
  },
  {
   "cell_type": "markdown",
   "id": "3740a346",
   "metadata": {},
   "source": [
    "## Baseline Logistic Regression"
   ]
  },
  {
   "cell_type": "code",
   "execution_count": null,
   "id": "8bd8ea8f",
   "metadata": {},
   "outputs": [],
   "source": [
    "logit = LogisticRegression(\n",
    "    fit_intercept=False,\n",
    "    penalty=None,\n",
    "    multi_class=\"ovr\",\n",
    "    max_iter=10000,\n",
    "    warm_start=False,\n",
    "    solver=\"lbfgs\",\n",
    ")\n",
    "logit"
   ]
  },
  {
   "cell_type": "code",
   "execution_count": null,
   "id": "dfcbcf75",
   "metadata": {},
   "outputs": [],
   "source": [
    "print(X_train.columns)\n"
   ]
  },
  {
   "cell_type": "code",
   "execution_count": null,
   "id": "9ff7ead0",
   "metadata": {},
   "outputs": [],
   "source": [
    "# Set classifier (final step) to `logit`\n",
    "classifier_pipe.set_params(classifier=logit)\n",
    "\n",
    "# Train and test\n",
    "classifier_pipe.fit(X_train, y_train)\n",
    "\n",
    "# Predict on the test data\n",
    "y_pred = classifier_pipe.predict(X_test)\n",
    "\n",
    "# Generate a classification report\n",
    "report = classification_report(y_test, y_pred, zero_division=0)\n",
    "print(\"Classification Report:\\n\", report)\n",
    "\n",
    "# Calculate accuracy\n",
    "accuracy = accuracy_score(y_test, y_pred)\n",
    "print(\"Accuracy:\", accuracy)\n",
    "\n",
    "# Generate a confusion matrix\n",
    "conf_matrix = confusion_matrix(y_test, y_pred)\n",
    "print(\"Confusion Matrix:\\n\", conf_matrix)"
   ]
  },
  {
   "cell_type": "code",
   "execution_count": null,
   "id": "57b43b0c",
   "metadata": {},
   "outputs": [],
   "source": [
    "sns.heatmap(confusion_matrix(y_test, y_pred), annot=True, fmt='d', cmap='Blues')\n",
    "plt.xlabel('Predicted')\n",
    "plt.ylabel('Actual')\n",
    "plt.title('Confusion Matrix')\n",
    "plt.show()\n"
   ]
  },
  {
   "cell_type": "markdown",
   "id": "81b25e07",
   "metadata": {},
   "source": [
    "## Second Model\n",
    "\n",
    "### Balance Class Weight"
   ]
  },
  {
   "cell_type": "code",
   "execution_count": null,
   "id": "9f1017e5",
   "metadata": {},
   "outputs": [],
   "source": [
    "y_normalized = y.value_counts(normalize=True) * 100\n",
    "\n",
    "plt.figure(figsize=(10, 6))\n",
    "sns.barplot(x=y_normalized.values, y=y_normalized.index, orient=\"h\")\n",
    "plt.title(\"Normalized Count Plot (%)\")\n",
    "plt.xlabel(\"Percentage\")\n",
    "plt.show()"
   ]
  },
  {
   "cell_type": "code",
   "execution_count": null,
   "id": "14292d20",
   "metadata": {},
   "outputs": [],
   "source": [
    "\n",
    "# Set classifier to use balanced class weights\n",
    "logit.set_params(class_weight=\"balanced\")\n",
    "\n",
    "# Display pipeline\n",
    "classifier_pipe"
   ]
  },
  {
   "cell_type": "code",
   "execution_count": null,
   "id": "36e5c792",
   "metadata": {},
   "outputs": [],
   "source": [
    "# Train and test\n",
    "classifier_pipe.fit(X_train, y_train)\n",
    "\n",
    "# Predict on the test data\n",
    "y_pred = classifier_pipe.predict(X_test)\n",
    "\n",
    "# Generate a classification report\n",
    "report = classification_report(y_test, y_pred, zero_division=0)\n",
    "print(\"Classification Report:\\n\", report)\n",
    "\n",
    "# Calculate accuracy\n",
    "accuracy = accuracy_score(y_test, y_pred)\n",
    "print(\"Accuracy:\", accuracy)\n",
    "\n",
    "# Generate a confusion matrix\n",
    "conf_matrix = confusion_matrix(y_test, y_pred)\n",
    "print(\"Confusion Matrix:\\n\", conf_matrix)"
   ]
  },
  {
   "cell_type": "markdown",
   "id": "5ec91c61",
   "metadata": {},
   "source": [
    "## Third Model\n",
    "\n",
    "### Standard Scaling"
   ]
  },
  {
   "cell_type": "code",
   "execution_count": null,
   "id": "fa18f92e",
   "metadata": {},
   "outputs": [],
   "source": [
    "# Initialize your classifier\n",
    "logit = LogisticRegression()\n",
    "\n",
    "# Define the pipeline\n",
    "classifier_pipe = Pipeline(\n",
    "    [\n",
    "        (\"cat_encoder\", OneHotEncoder(drop='first', sparse_output=False, handle_unknown='ignore')), \n",
    "        (\"imputer\",SimpleImputer(strategy=\"constant\", fill_value=0)),\n",
    "        (\"corr_trimmer\", corr_trimmer), \n",
    "        (\"scaler\", SklearnTransformerWrapper(transformer=StandardScaler())),\n",
    "        (\"classifier\", logit),\n",
    "    ]\n",
    ")\n",
    "\n",
    "classifier_pipe"
   ]
  },
  {
   "cell_type": "code",
   "execution_count": null,
   "id": "2435f560",
   "metadata": {
    "scrolled": false
   },
   "outputs": [],
   "source": [
    "# Train and test\n",
    "classifier_pipe.fit(X_train, y_train)\n",
    "\n",
    "# Predict on the test data\n",
    "y_pred = classifier_pipe.predict(X_test)\n",
    "\n",
    "# Generate a classification report\n",
    "report = classification_report(y_test, y_pred, zero_division=0)\n",
    "print(\"Classification Report:\\n\", report)\n",
    "\n",
    "# Calculate accuracy\n",
    "accuracy = accuracy_score(y_test, y_pred)\n",
    "print(\"Accuracy:\", accuracy)\n",
    "\n",
    "# Generate a confusion matrix\n",
    "conf_matrix = confusion_matrix(y_test, y_pred)\n",
    "print(\"Confusion Matrix:\\n\", conf_matrix)"
   ]
  },
  {
   "cell_type": "code",
   "execution_count": null,
   "id": "24196eb8",
   "metadata": {},
   "outputs": [],
   "source": [
    "from sklearn.ensemble import RandomForestClassifier"
   ]
  },
  {
   "cell_type": "code",
   "execution_count": null,
   "id": "2b248d8e",
   "metadata": {},
   "outputs": [],
   "source": [
    "# Define the pipeline\n",
    "classifier_pipe = Pipeline(\n",
    "    [\n",
    "        (\"cat_encoder\", OneHotEncoder(drop='first', sparse_output=False, handle_unknown='ignore')), \n",
    "        (\"imputer\",SimpleImputer(strategy=\"constant\", fill_value=0)),\n",
    "        (\"corr_trimmer\", corr_trimmer),\n",
    "        (\"scaler\", SklearnTransformerWrapper(transformer=StandardScaler())),\n",
    "#         (\"float_forcer\", FloatArrayForcer()),\n",
    "        (\"classifier\", RandomForestClassifier()),\n",
    "    ]\n",
    ")\n",
    "\n",
    "classifier_pipe"
   ]
  },
  {
   "cell_type": "code",
   "execution_count": null,
   "id": "147a3da3",
   "metadata": {},
   "outputs": [],
   "source": [
    "# Train and test\n",
    "classifier_pipe.fit(X_train, y_train)\n",
    "\n",
    "# Predict on the test data\n",
    "y_pred = classifier_pipe.predict(X_test)\n",
    "\n",
    "# Generate a classification report\n",
    "report = classification_report(y_test, y_pred, zero_division=0)\n",
    "print(\"Classification Report:\\n\", report)\n",
    "\n",
    "# Calculate accuracy\n",
    "accuracy = accuracy_score(y_test, y_pred)\n",
    "print(\"Accuracy:\", accuracy)\n",
    "\n",
    "# Generate a confusion matrix\n",
    "conf_matrix = confusion_matrix(y_test, y_pred)\n",
    "print(\"Confusion Matrix:\\n\", conf_matrix)"
   ]
  },
  {
   "cell_type": "code",
   "execution_count": null,
   "id": "77ae88b5",
   "metadata": {},
   "outputs": [],
   "source": [
    "from xgboost import XGBClassifier"
   ]
  },
  {
   "cell_type": "code",
   "execution_count": null,
   "id": "fa860169",
   "metadata": {
    "scrolled": true
   },
   "outputs": [],
   "source": [
    "# XGBoost Pipeline\n",
    "classifier_pipe = Pipeline(steps=[\n",
    "    ('preprocessor', preprocessor),\n",
    "    (\"corr_trimmer\", corr_trimmer),\n",
    "    ('classifier', XGBClassifier(random_state=42))\n",
    "])"
   ]
  },
  {
   "cell_type": "code",
   "execution_count": null,
   "id": "818c07db",
   "metadata": {},
   "outputs": [],
   "source": [
    "# Train and test\n",
    "classifier_pipe.fit(X_train, y_train)\n",
    "\n",
    "# Predict on the test data\n",
    "y_pred = classifier_pipe.predict(X_test)\n",
    "\n",
    "# Generate a classification report\n",
    "report = classification_report(y_test, y_pred, zero_division=0)\n",
    "print(\"Classification Report:\\n\", report)\n",
    "\n",
    "# Calculate accuracy\n",
    "accuracy = accuracy_score(y_test, y_pred)\n",
    "print(\"Accuracy:\", accuracy)\n",
    "\n",
    "# Generate a confusion matrix\n",
    "conf_matrix = confusion_matrix(y_test, y_pred)\n",
    "print(\"Confusion Matrix:\\n\", conf_matrix)"
   ]
  },
  {
   "cell_type": "code",
   "execution_count": null,
   "id": "7c4efe4e",
   "metadata": {},
   "outputs": [],
   "source": [
    "import os\n",
    "classifier_pipe.fit(X, y)\n",
    "joblib.dump(classifier_pipe, os.path.normpath(\" final_model.joblib\"))"
   ]
  },
  {
   "cell_type": "code",
   "execution_count": null,
   "id": "73afbcf4",
   "metadata": {},
   "outputs": [],
   "source": []
  },
  {
   "cell_type": "code",
   "execution_count": null,
   "id": "cee7d306",
   "metadata": {},
   "outputs": [],
   "source": []
  },
  {
   "cell_type": "code",
   "execution_count": null,
   "id": "75a6868b",
   "metadata": {},
   "outputs": [],
   "source": []
  },
  {
   "cell_type": "code",
   "execution_count": null,
   "id": "301acaeb",
   "metadata": {},
   "outputs": [],
   "source": []
  },
  {
   "cell_type": "code",
   "execution_count": null,
   "id": "9184a730",
   "metadata": {},
   "outputs": [],
   "source": []
  },
  {
   "cell_type": "code",
   "execution_count": null,
   "id": "dbc2dffa",
   "metadata": {},
   "outputs": [],
   "source": []
  },
  {
   "cell_type": "code",
   "execution_count": null,
   "id": "76ce06f2",
   "metadata": {},
   "outputs": [],
   "source": []
  },
  {
   "cell_type": "markdown",
   "id": "350c6964",
   "metadata": {},
   "source": [
    "## Interpretation\n",
    "\n",
    "Now to see which features are most important for prediction. These features and the strengths of their relationships with the target variable will be crucial information for marketing managers at Banco de Portugal."
   ]
  },
  {
   "cell_type": "code",
   "execution_count": null,
   "id": "99324c15",
   "metadata": {},
   "outputs": [],
   "source": [
    "df.columns"
   ]
  },
  {
   "cell_type": "code",
   "execution_count": null,
   "id": "f85cfa55",
   "metadata": {},
   "outputs": [],
   "source": [
    "df.columns = df.columns.str.replace('_', ' ').str.title()\n"
   ]
  },
  {
   "cell_type": "code",
   "execution_count": null,
   "id": "320cf252",
   "metadata": {},
   "outputs": [],
   "source": [
    "# Add the 'Phone' column based on the 'Contact Cellular' column\n",
    "df[\"Phone\"] = df[\"Contact Cellular\"].map(lambda x: \"Cellular\" if x else \"Landline\")\n"
   ]
  },
  {
   "cell_type": "code",
   "execution_count": null,
   "id": "14f53e18",
   "metadata": {
    "scrolled": true
   },
   "outputs": [],
   "source": [
    "# Make the graph\n",
    "fig, ax = plt.subplots(figsize=(6, 8))\n",
    "sns.countplot(data=df, y=\"Job\", hue=\"Phone\", ax=ax)\n",
    "ax.set(ylabel=None, xlabel=\"Count\", title=\"Phone Type by Job\")\n",
    "\n",
    "plt.show()\n"
   ]
  },
  {
   "cell_type": "code",
   "execution_count": null,
   "id": "434a0b63",
   "metadata": {},
   "outputs": [],
   "source": [
    "# Calculate conversion rates\n",
    "conversion_rate_prev_success = df.groupby('Prev Success')['Invested'].mean()\n",
    "conversion_rate_phone = df.groupby('Phone')['Invested'].mean()"
   ]
  },
  {
   "cell_type": "code",
   "execution_count": null,
   "id": "4b490505",
   "metadata": {},
   "outputs": [],
   "source": [
    "from matplotlib import ticker\n",
    "\n",
    "fig, axs = plt.subplots(1, 2, figsize=(8, 4))\n",
    "\n",
    "# Plot conversion rate by previous success\n",
    "sns.barplot(x=conversion_rate_prev_success.index, y=conversion_rate_prev_success.values, ax=axs[0])\n",
    "axs[0].yaxis.set_major_formatter(ticker.PercentFormatter(xmax=1))\n",
    "axs[0].set(ylabel=\"Conversion Rate\", title=\"Conversion Rate by Previous Success\", xlabel=\"Previous Success\")\n",
    "\n",
    "# Plot conversion rate by phone type\n",
    "sns.barplot(x=conversion_rate_phone.index, y=conversion_rate_phone.values, ax=axs[1])\n",
    "axs[1].set(ylabel=\"Conversion Rate\", title=\"Conversion Rate by Phone Type\", xlabel=\"Phone Type\")\n",
    "\n",
    "plt.tight_layout()\n",
    "plt.show()\n"
   ]
  },
  {
   "cell_type": "markdown",
   "id": "e43da3ce",
   "metadata": {},
   "source": [
    "## Fourth Model\n",
    "\n",
    "### Hyperparameter Tuning"
   ]
  },
  {
   "cell_type": "code",
   "execution_count": null,
   "id": "893cff84",
   "metadata": {},
   "outputs": [],
   "source": [
    "grid = dict(\n",
    "    classifier__C=np.geomspace(1e-5, 1e5, 11), winsorizer__fold=np.linspace(0.0, 0.2, 5)\n",
    ")\n",
    "grid"
   ]
  },
  {
   "cell_type": "code",
   "execution_count": null,
   "id": "c87853ed",
   "metadata": {},
   "outputs": [],
   "source": [
    "fig, ax = plt.subplots(1, 2, figsize=(10, 4))\n",
    "\n",
    "# Plot countplot for Prev Success\n",
    "sns.countplot(data=df, x=\"Prev Success\", ax=ax[0])\n",
    "ax[0].set(xlabel=\"Previous Success\", title=\"Overall Representation: Previous Success\")\n",
    "\n",
    "# Plot countplot for Phone\n",
    "sns.countplot(data=df, x=\"Phone\", ax=ax[1])\n",
    "ax[1].set(xlabel=\"Phone Type\", title=\"Overall Representation: Phone Type\")\n",
    "\n",
    "plt.tight_layout()\n",
    "plt.show()\n"
   ]
  },
  {
   "cell_type": "code",
   "execution_count": null,
   "id": "3df4fec6",
   "metadata": {},
   "outputs": [],
   "source": [
    "df.columns"
   ]
  },
  {
   "cell_type": "code",
   "execution_count": null,
   "id": "eb82b8f9",
   "metadata": {},
   "outputs": [],
   "source": [
    "df.query(\"Job == 'unemployed'\")[\"Invested\"].value_counts(1)"
   ]
  },
  {
   "cell_type": "code",
   "execution_count": null,
   "id": "2ceeb6d0",
   "metadata": {},
   "outputs": [],
   "source": [
    "# Filter the DataFrame for unemployed individuals\n",
    "unemployed_data = df.query(\"Job == 'unemployed'\")[\"Invested\"]\n",
    "\n",
    "# Calculate the normalized value counts\n",
    "value_counts = unemployed_data.value_counts(normalize=True)\n",
    "\n",
    "# Plot the value counts\n",
    "sns.barplot(x=value_counts.index, y=value_counts.values)\n",
    "plt.xlabel(\"Invested\")\n",
    "plt.ylabel(\"Proportion\")\n",
    "plt.title(\"Proportion of Invested for Unemployed Individuals\")\n",
    "plt.show()"
   ]
  },
  {
   "cell_type": "code",
   "execution_count": null,
   "id": "3b42a370",
   "metadata": {},
   "outputs": [],
   "source": []
  },
  {
   "cell_type": "code",
   "execution_count": null,
   "id": "2cad83b6",
   "metadata": {},
   "outputs": [],
   "source": [
    "conversion_rates = df.groupby('Contact Month')['Invested'].mean().reset_index()\n",
    "\n",
    "# Plot the conversion rates\n",
    "plt.figure(figsize=(4, 6))\n",
    "sns.barplot(x='Invested', y='Contact Month', data=conversion_rates, palette='viridis')\n",
    "plt.xlabel('Conversion Rate')\n",
    "plt.ylabel('Contact Month')\n",
    "plt.title('Conversion Rate by Contact Month')\n",
    "plt.show()"
   ]
  },
  {
   "cell_type": "code",
   "execution_count": null,
   "id": "e7148998",
   "metadata": {},
   "outputs": [],
   "source": [
    "# Create a count plot for the 'contact_month' column\n",
    "fig, ax = plt.subplots(figsize=(6, 8))\n",
    "sns.countplot(data=df, y='Contact Month', ax=ax, palette='viridis')\n",
    "\n",
    "# Set the title for the plot\n",
    "ax.set_title('Overall Representation: Contact Month')\n",
    "\n",
    "# Format y-axis labels to title case\n",
    "# ax.set_yticklabels([label.title() for label in ax.get_yticklabels()])\n",
    "\n",
    "# Show the plot\n",
    "plt.show()"
   ]
  },
  {
   "cell_type": "code",
   "execution_count": null,
   "id": "990b3b8c",
   "metadata": {},
   "outputs": [],
   "source": []
  },
  {
   "cell_type": "code",
   "execution_count": null,
   "id": "05629225",
   "metadata": {},
   "outputs": [],
   "source": []
  }
 ],
 "metadata": {
  "kernelspec": {
   "display_name": "Python 3 (ipykernel)",
   "language": "python",
   "name": "python3"
  },
  "language_info": {
   "codemirror_mode": {
    "name": "ipython",
    "version": 3
   },
   "file_extension": ".py",
   "mimetype": "text/x-python",
   "name": "python",
   "nbconvert_exporter": "python",
   "pygments_lexer": "ipython3",
   "version": "3.11.5"
  }
 },
 "nbformat": 4,
 "nbformat_minor": 5
}
